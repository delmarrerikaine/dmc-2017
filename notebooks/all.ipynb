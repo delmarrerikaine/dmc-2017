{
 "cells": [
  {
   "cell_type": "markdown",
   "metadata": {},
   "source": [
    "## Explore data"
   ]
  },
  {
   "cell_type": "raw",
   "metadata": {},
   "source": [
    "This project, participant of Data Mining Cup 2017, analyzes the set in order to recognize existing relationships of dynamic prices strategies and creates the model that can predict revenues given certain training set.\n",
    "\n",
    "\n",
    "Let's start by importing some libraries and examining the data."
   ]
  },
  {
   "cell_type": "code",
   "execution_count": 1,
   "metadata": {
    "collapsed": false
   },
   "outputs": [],
   "source": [
    "%matplotlib inline\n",
    "import pandas as pd\n",
    "import numpy as np\n",
    "import gc\n",
    "import matplotlib.pyplot as plt\n",
    "from sklearn.preprocessing import MinMaxScaler\n",
    "from sklearn import linear_model\n",
    "import os\n",
    "\n",
    "#chanhe this manualy\n",
    "path = '/media/roman/Main/Programing/contest/dmc2017/dmc-2017/'\n",
    "os.chdir(path)"
   ]
  },
  {
   "cell_type": "code",
   "execution_count": 2,
   "metadata": {
    "collapsed": true
   },
   "outputs": [],
   "source": [
    "items = pd.read_csv('data/raw/items.csv',sep='|')\n",
    "train = pd.read_csv('data/raw/train.csv',sep='|')"
   ]
  },
  {
   "cell_type": "code",
   "execution_count": 3,
   "metadata": {
    "collapsed": false
   },
   "outputs": [
    {
     "data": {
      "text/html": [
       "<div>\n",
       "<style>\n",
       "    .dataframe thead tr:only-child th {\n",
       "        text-align: right;\n",
       "    }\n",
       "\n",
       "    .dataframe thead th {\n",
       "        text-align: left;\n",
       "    }\n",
       "\n",
       "    .dataframe tbody tr th {\n",
       "        vertical-align: top;\n",
       "    }\n",
       "</style>\n",
       "<table border=\"1\" class=\"dataframe\">\n",
       "  <thead>\n",
       "    <tr style=\"text-align: right;\">\n",
       "      <th></th>\n",
       "      <th>lineID</th>\n",
       "      <th>day</th>\n",
       "      <th>pid</th>\n",
       "      <th>adFlag</th>\n",
       "      <th>availability</th>\n",
       "      <th>competitorPrice</th>\n",
       "      <th>click</th>\n",
       "      <th>basket</th>\n",
       "      <th>order</th>\n",
       "      <th>price</th>\n",
       "      <th>revenue</th>\n",
       "    </tr>\n",
       "  </thead>\n",
       "  <tbody>\n",
       "    <tr>\n",
       "      <th>0</th>\n",
       "      <td>1</td>\n",
       "      <td>1</td>\n",
       "      <td>6570</td>\n",
       "      <td>0</td>\n",
       "      <td>2</td>\n",
       "      <td>14.60</td>\n",
       "      <td>1</td>\n",
       "      <td>0</td>\n",
       "      <td>0</td>\n",
       "      <td>16.89</td>\n",
       "      <td>0.00</td>\n",
       "    </tr>\n",
       "    <tr>\n",
       "      <th>1</th>\n",
       "      <td>2</td>\n",
       "      <td>1</td>\n",
       "      <td>14922</td>\n",
       "      <td>1</td>\n",
       "      <td>1</td>\n",
       "      <td>8.57</td>\n",
       "      <td>0</td>\n",
       "      <td>1</td>\n",
       "      <td>0</td>\n",
       "      <td>8.75</td>\n",
       "      <td>0.00</td>\n",
       "    </tr>\n",
       "    <tr>\n",
       "      <th>2</th>\n",
       "      <td>3</td>\n",
       "      <td>1</td>\n",
       "      <td>16382</td>\n",
       "      <td>0</td>\n",
       "      <td>1</td>\n",
       "      <td>14.77</td>\n",
       "      <td>0</td>\n",
       "      <td>1</td>\n",
       "      <td>0</td>\n",
       "      <td>16.06</td>\n",
       "      <td>0.00</td>\n",
       "    </tr>\n",
       "    <tr>\n",
       "      <th>3</th>\n",
       "      <td>4</td>\n",
       "      <td>1</td>\n",
       "      <td>1145</td>\n",
       "      <td>1</td>\n",
       "      <td>1</td>\n",
       "      <td>6.59</td>\n",
       "      <td>0</td>\n",
       "      <td>0</td>\n",
       "      <td>1</td>\n",
       "      <td>6.55</td>\n",
       "      <td>6.55</td>\n",
       "    </tr>\n",
       "    <tr>\n",
       "      <th>4</th>\n",
       "      <td>5</td>\n",
       "      <td>1</td>\n",
       "      <td>3394</td>\n",
       "      <td>0</td>\n",
       "      <td>1</td>\n",
       "      <td>4.39</td>\n",
       "      <td>0</td>\n",
       "      <td>0</td>\n",
       "      <td>1</td>\n",
       "      <td>4.14</td>\n",
       "      <td>4.14</td>\n",
       "    </tr>\n",
       "  </tbody>\n",
       "</table>\n",
       "</div>"
      ],
      "text/plain": [
       "   lineID  day    pid  adFlag  availability  competitorPrice  click  basket  \\\n",
       "0       1    1   6570       0             2            14.60      1       0   \n",
       "1       2    1  14922       1             1             8.57      0       1   \n",
       "2       3    1  16382       0             1            14.77      0       1   \n",
       "3       4    1   1145       1             1             6.59      0       0   \n",
       "4       5    1   3394       0             1             4.39      0       0   \n",
       "\n",
       "   order  price  revenue  \n",
       "0      0  16.89     0.00  \n",
       "1      0   8.75     0.00  \n",
       "2      0  16.06     0.00  \n",
       "3      1   6.55     6.55  \n",
       "4      1   4.14     4.14  "
      ]
     },
     "execution_count": 3,
     "metadata": {},
     "output_type": "execute_result"
    }
   ],
   "source": [
    "train.head(5)"
   ]
  },
  {
   "cell_type": "code",
   "execution_count": 4,
   "metadata": {
    "collapsed": false
   },
   "outputs": [
    {
     "data": {
      "text/html": [
       "<div>\n",
       "<style>\n",
       "    .dataframe thead tr:only-child th {\n",
       "        text-align: right;\n",
       "    }\n",
       "\n",
       "    .dataframe thead th {\n",
       "        text-align: left;\n",
       "    }\n",
       "\n",
       "    .dataframe tbody tr th {\n",
       "        vertical-align: top;\n",
       "    }\n",
       "</style>\n",
       "<table border=\"1\" class=\"dataframe\">\n",
       "  <thead>\n",
       "    <tr style=\"text-align: right;\">\n",
       "      <th></th>\n",
       "      <th>pid</th>\n",
       "      <th>manufacturer</th>\n",
       "      <th>group</th>\n",
       "      <th>content</th>\n",
       "      <th>unit</th>\n",
       "      <th>pharmForm</th>\n",
       "      <th>genericProduct</th>\n",
       "      <th>salesIndex</th>\n",
       "      <th>category</th>\n",
       "      <th>campaignIndex</th>\n",
       "      <th>rrp</th>\n",
       "    </tr>\n",
       "  </thead>\n",
       "  <tbody>\n",
       "    <tr>\n",
       "      <th>0</th>\n",
       "      <td>1</td>\n",
       "      <td>1</td>\n",
       "      <td>2FOI</td>\n",
       "      <td>80</td>\n",
       "      <td>ST</td>\n",
       "      <td>TAB</td>\n",
       "      <td>0</td>\n",
       "      <td>40</td>\n",
       "      <td>NaN</td>\n",
       "      <td>NaN</td>\n",
       "      <td>10.89</td>\n",
       "    </tr>\n",
       "    <tr>\n",
       "      <th>1</th>\n",
       "      <td>2</td>\n",
       "      <td>1</td>\n",
       "      <td>2FOI</td>\n",
       "      <td>80</td>\n",
       "      <td>ST</td>\n",
       "      <td>Tab</td>\n",
       "      <td>0</td>\n",
       "      <td>40</td>\n",
       "      <td>NaN</td>\n",
       "      <td>NaN</td>\n",
       "      <td>10.89</td>\n",
       "    </tr>\n",
       "    <tr>\n",
       "      <th>2</th>\n",
       "      <td>3</td>\n",
       "      <td>1</td>\n",
       "      <td>2FOI</td>\n",
       "      <td>10</td>\n",
       "      <td>G</td>\n",
       "      <td>GLO</td>\n",
       "      <td>0</td>\n",
       "      <td>40</td>\n",
       "      <td>NaN</td>\n",
       "      <td>NaN</td>\n",
       "      <td>16.45</td>\n",
       "    </tr>\n",
       "    <tr>\n",
       "      <th>3</th>\n",
       "      <td>4</td>\n",
       "      <td>1</td>\n",
       "      <td>2FOI</td>\n",
       "      <td>80</td>\n",
       "      <td>ST</td>\n",
       "      <td>TAB</td>\n",
       "      <td>0</td>\n",
       "      <td>40</td>\n",
       "      <td>NaN</td>\n",
       "      <td>NaN</td>\n",
       "      <td>10.89</td>\n",
       "    </tr>\n",
       "    <tr>\n",
       "      <th>4</th>\n",
       "      <td>5</td>\n",
       "      <td>2</td>\n",
       "      <td>10OJ03JS</td>\n",
       "      <td>8</td>\n",
       "      <td>ST</td>\n",
       "      <td>PUL</td>\n",
       "      <td>0</td>\n",
       "      <td>40</td>\n",
       "      <td>1.0</td>\n",
       "      <td>NaN</td>\n",
       "      <td>22.53</td>\n",
       "    </tr>\n",
       "  </tbody>\n",
       "</table>\n",
       "</div>"
      ],
      "text/plain": [
       "   pid  manufacturer     group content unit pharmForm  genericProduct  \\\n",
       "0    1             1      2FOI      80   ST       TAB               0   \n",
       "1    2             1      2FOI      80   ST       Tab               0   \n",
       "2    3             1      2FOI      10    G       GLO               0   \n",
       "3    4             1      2FOI      80   ST       TAB               0   \n",
       "4    5             2  10OJ03JS       8   ST       PUL               0   \n",
       "\n",
       "   salesIndex  category campaignIndex    rrp  \n",
       "0          40       NaN           NaN  10.89  \n",
       "1          40       NaN           NaN  10.89  \n",
       "2          40       NaN           NaN  16.45  \n",
       "3          40       NaN           NaN  10.89  \n",
       "4          40       1.0           NaN  22.53  "
      ]
     },
     "execution_count": 4,
     "metadata": {},
     "output_type": "execute_result"
    }
   ],
   "source": [
    "items.head(5)"
   ]
  },
  {
   "cell_type": "code",
   "execution_count": 5,
   "metadata": {
    "collapsed": false
   },
   "outputs": [
    {
     "name": "stdout",
     "output_type": "stream",
     "text": [
      "<class 'pandas.core.frame.DataFrame'>\n",
      "RangeIndex: 2756003 entries, 0 to 2756002\n",
      "Data columns (total 11 columns):\n",
      "lineID             2756003 non-null int64\n",
      "day                2756003 non-null int64\n",
      "pid                2756003 non-null int64\n",
      "adFlag             2756003 non-null int64\n",
      "availability       2756003 non-null int64\n",
      "competitorPrice    2655316 non-null float64\n",
      "click              2756003 non-null int64\n",
      "basket             2756003 non-null int64\n",
      "order              2756003 non-null int64\n",
      "price              2756003 non-null float64\n",
      "revenue            2756003 non-null float64\n",
      "dtypes: float64(3), int64(8)\n",
      "memory usage: 231.3 MB\n"
     ]
    }
   ],
   "source": [
    "train.info(null_counts=True)"
   ]
  },
  {
   "cell_type": "code",
   "execution_count": 6,
   "metadata": {
    "collapsed": false
   },
   "outputs": [
    {
     "name": "stdout",
     "output_type": "stream",
     "text": [
      "<class 'pandas.core.frame.DataFrame'>\n",
      "RangeIndex: 22035 entries, 0 to 22034\n",
      "Data columns (total 11 columns):\n",
      "pid               22035 non-null int64\n",
      "manufacturer      22035 non-null int64\n",
      "group             22035 non-null object\n",
      "content           22035 non-null object\n",
      "unit              22035 non-null object\n",
      "pharmForm         19708 non-null object\n",
      "genericProduct    22035 non-null int64\n",
      "salesIndex        22035 non-null int64\n",
      "category          17408 non-null float64\n",
      "campaignIndex     1338 non-null object\n",
      "rrp               22035 non-null float64\n",
      "dtypes: float64(2), int64(4), object(5)\n",
      "memory usage: 1.8+ MB\n"
     ]
    }
   ],
   "source": [
    "items.info()"
   ]
  },
  {
   "cell_type": "raw",
   "metadata": {},
   "source": [
    "Items dataframe stores additional information about product and can be connected with main dataframe train using column 'pid', after which we can delete train"
   ]
  },
  {
   "cell_type": "code",
   "execution_count": 7,
   "metadata": {
    "collapsed": false
   },
   "outputs": [
    {
     "data": {
      "text/plain": [
       "<function gc.collect>"
      ]
     },
     "execution_count": 7,
     "metadata": {},
     "output_type": "execute_result"
    }
   ],
   "source": [
    "train_items=pd.merge(train,items,on='pid')\n",
    "del train\n",
    "gc.collect"
   ]
  },
  {
   "cell_type": "raw",
   "metadata": {},
   "source": [
    "At this stage we can see some problems:\n",
    "    - some categorical feautures stored as int64 or object\n",
    "    - missing data in some columns"
   ]
  },
  {
   "cell_type": "markdown",
   "metadata": {},
   "source": [
    "## Preprocessing"
   ]
  },
  {
   "cell_type": "raw",
   "metadata": {},
   "source": [
    "Let's proceed by transforming some columns to categories."
   ]
  },
  {
   "cell_type": "code",
   "execution_count": 8,
   "metadata": {
    "collapsed": true
   },
   "outputs": [],
   "source": [
    "def toCategorical(df):\n",
    "    columns=['availability','group','content','unit','pharmForm',\n",
    "             'campaignIndex','salesIndex', 'category', 'manufacturer']\n",
    "    for col in columns:\n",
    "        if col in df.columns:\n",
    "            df[col]=df[col].astype('category')\n",
    "    return df"
   ]
  },
  {
   "cell_type": "code",
   "execution_count": 9,
   "metadata": {
    "collapsed": true
   },
   "outputs": [],
   "source": [
    "train_items=toCategorical(train_items)"
   ]
  },
  {
   "cell_type": "raw",
   "metadata": {},
   "source": [
    "Next step - dealing with missing data\n",
    "competitorPrice have missing data, it can be filled simply by mean, but rrp(recomended retail price) or price can describe rrp better than simple mean. Due to higher correlation betwen rrp and competitorPrice, we'll choose this pair for filling in missing data."
   ]
  },
  {
   "cell_type": "code",
   "execution_count": 10,
   "metadata": {
    "collapsed": false
   },
   "outputs": [
    {
     "name": "stdout",
     "output_type": "stream",
     "text": [
      "0.713654175692\n"
     ]
    }
   ],
   "source": [
    "t1=train_items['rrp'].as_matrix()\n",
    "t2=train_items['competitorPrice'].as_matrix()\n",
    "t2_div_t1=t2/t1\n",
    "t2_div_t1=t2_div_t1[np.logical_not(np.isnan(t2_div_t1))]\n",
    "coef_competitorPrice_to_rrp=t2_div_t1.mean()\n",
    "print coef_competitorPrice_to_rrp"
   ]
  },
  {
   "cell_type": "raw",
   "metadata": {},
   "source": [
    "So we have mean ration between this parameters.\n",
    "Function below can work with both items and train_items, by adding certain flags as parameter. It's designed for RAM usage optimizarion. To fill in missing competitorPrice we multiply rrp by our precalculated ratio. For missing categories we'll add new ones."
   ]
  },
  {
   "cell_type": "code",
   "execution_count": 11,
   "metadata": {
    "collapsed": true
   },
   "outputs": [],
   "source": [
    "def solveNA(df,df2,coef,flag):\n",
    "    if flag==1:  \n",
    "        df['pharmForm'] = df['pharmForm'].fillna('no_pharmForm')   \n",
    "        df['category'] = df['category'].fillna(410)\n",
    "        df['campaignIndex'] = df['campaignIndex'].fillna('D')\n",
    "    else:  \n",
    "        df['competitorPrice'] = df['competitorPrice'].fillna(df2['rrp']*coef)\n",
    "        if 'pharmForm' in df.columns:\n",
    "            df['pharmForm'] = df['pharmForm'].cat.add_categories(['no_pharmForm'])\n",
    "            df['pharmForm'] = df['pharmForm'].fillna('no_pharmForm')\n",
    "        if 'category' in df.columns:\n",
    "            df['category'] = df['category'].cat.add_categories([410])\n",
    "            df['category'] = df['category'].fillna(410)\n",
    "        if 'campaignIndex' in df.columns:\n",
    "            df['campaignIndex'] = df['campaignIndex'].cat.add_categories(['D'])\n",
    "            df['campaignIndex'] = df['campaignIndex'].fillna('D')\n",
    "    columns2=['category', 'manufacturer']\n",
    "    for col2 in columns2:\n",
    "        if col2 in df.columns:\n",
    "            df[col2]=df[col2].astype('int')\n",
    "            df[col2]=df[col2].astype('category')\n",
    "    return df"
   ]
  },
  {
   "cell_type": "code",
   "execution_count": 12,
   "metadata": {
    "collapsed": true
   },
   "outputs": [],
   "source": [
    "items=solveNA(items,train_items,coef_competitorPrice_to_rrp,1)\n",
    "train_items=solveNA(train_items,train_items,coef_competitorPrice_to_rrp,0)"
   ]
  },
  {
   "cell_type": "code",
   "execution_count": 13,
   "metadata": {
    "collapsed": false
   },
   "outputs": [
    {
     "name": "stdout",
     "output_type": "stream",
     "text": [
      "<class 'pandas.core.frame.DataFrame'>\n",
      "Int64Index: 2756003 entries, 0 to 2756002\n",
      "Data columns (total 21 columns):\n",
      "lineID             2756003 non-null int64\n",
      "day                2756003 non-null int64\n",
      "pid                2756003 non-null int64\n",
      "adFlag             2756003 non-null int64\n",
      "availability       2756003 non-null category\n",
      "competitorPrice    2756003 non-null float64\n",
      "click              2756003 non-null int64\n",
      "basket             2756003 non-null int64\n",
      "order              2756003 non-null int64\n",
      "price              2756003 non-null float64\n",
      "revenue            2756003 non-null float64\n",
      "manufacturer       2756003 non-null category\n",
      "group              2756003 non-null category\n",
      "content            2756003 non-null category\n",
      "unit               2756003 non-null category\n",
      "pharmForm          2756003 non-null category\n",
      "genericProduct     2756003 non-null int64\n",
      "salesIndex         2756003 non-null category\n",
      "category           2756003 non-null category\n",
      "campaignIndex      2756003 non-null category\n",
      "rrp                2756003 non-null float64\n",
      "dtypes: category(9), float64(4), int64(8)\n",
      "memory usage: 310.3 MB\n"
     ]
    }
   ],
   "source": [
    "train_items.info(null_counts=True)"
   ]
  },
  {
   "cell_type": "raw",
   "metadata": {},
   "source": [
    "So all categories have right datatypes and there is no missing data\n",
    "Next step is to encode categories with low cardinality as dummies"
   ]
  },
  {
   "cell_type": "code",
   "execution_count": 14,
   "metadata": {
    "collapsed": true
   },
   "outputs": [],
   "source": [
    "def Dummies(df):\n",
    "    columns=['availability','unit','salesIndex','campaignIndex']\n",
    "    dumm=pd.get_dummies(df[columns])\n",
    "    df=pd.concat([df, dumm], axis=1)\n",
    "    return df"
   ]
  },
  {
   "cell_type": "code",
   "execution_count": 15,
   "metadata": {
    "collapsed": true
   },
   "outputs": [],
   "source": [
    "train_items=Dummies(train_items)"
   ]
  },
  {
   "cell_type": "raw",
   "metadata": {},
   "source": [
    "Let's create some new feautures from existing"
   ]
  },
  {
   "cell_type": "code",
   "execution_count": 16,
   "metadata": {
    "collapsed": true
   },
   "outputs": [],
   "source": [
    "def moreFeautures(df):\n",
    "    df['day_of_week']=df['day']%7\n",
    "    df['discount']=df['price']/df['rrp']\n",
    "    df['compDiscount']=df['competitorPrice']/df['price']\n",
    "    return df"
   ]
  },
  {
   "cell_type": "code",
   "execution_count": 17,
   "metadata": {
    "collapsed": true
   },
   "outputs": [],
   "source": [
    "train_items=moreFeautures(train_items)"
   ]
  },
  {
   "cell_type": "code",
   "execution_count": 18,
   "metadata": {
    "collapsed": false
   },
   "outputs": [
    {
     "name": "stdout",
     "output_type": "stream",
     "text": [
      "<class 'pandas.core.frame.DataFrame'>\n",
      "Int64Index: 2756003 entries, 0 to 2756002\n",
      "Data columns (total 44 columns):\n",
      "lineID             int64\n",
      "day                int64\n",
      "pid                int64\n",
      "adFlag             int64\n",
      "availability       category\n",
      "competitorPrice    float64\n",
      "click              int64\n",
      "basket             int64\n",
      "order              int64\n",
      "price              float64\n",
      "revenue            float64\n",
      "manufacturer       category\n",
      "group              category\n",
      "content            category\n",
      "unit               category\n",
      "pharmForm          category\n",
      "genericProduct     int64\n",
      "salesIndex         category\n",
      "category           category\n",
      "campaignIndex      category\n",
      "rrp                float64\n",
      "availability_1     uint8\n",
      "availability_2     uint8\n",
      "availability_3     uint8\n",
      "availability_4     uint8\n",
      "unit_CM            uint8\n",
      "unit_G             uint8\n",
      "unit_KG            uint8\n",
      "unit_L             uint8\n",
      "unit_M             uint8\n",
      "unit_ML            uint8\n",
      "unit_P             uint8\n",
      "unit_ST            uint8\n",
      "salesIndex_40      uint8\n",
      "salesIndex_44      uint8\n",
      "salesIndex_52      uint8\n",
      "salesIndex_53      uint8\n",
      "campaignIndex_A    uint8\n",
      "campaignIndex_B    uint8\n",
      "campaignIndex_C    uint8\n",
      "campaignIndex_D    uint8\n",
      "day_of_week        int64\n",
      "discount           float64\n",
      "compDiscount       float64\n",
      "dtypes: category(9), float64(6), int64(9), uint8(20)\n",
      "memory usage: 425.9 MB\n"
     ]
    }
   ],
   "source": [
    "train_items.info()"
   ]
  },
  {
   "cell_type": "raw",
   "metadata": {},
   "source": [
    "So we've extended the number of collumns from 21 to 44\n",
    "But we have some categories with high cardinality, it can't be transform the same way.\n",
    "It's possible to encode it using 'hashing trick' or scipy.sparse.coo_matrix but after several attempts I stopped replacing categorical data with average of target variable with same categories or number of times it appears in the train set and not only for one category but for intersection of two or three categories.\n",
    "Due to competition limitation click, basket, order can't be used in train, so we try to replace them too.\n",
    "Next function is the slowest in this project so I saved results into seperate file"
   ]
  },
  {
   "cell_type": "code",
   "execution_count": 19,
   "metadata": {
    "collapsed": true
   },
   "outputs": [],
   "source": [
    "import itertools as it\n",
    "def solveCategorical(c1,df1,df2,flag):\n",
    "    def f(x):\n",
    "        tuples = [tuple(i) for i in x.values]\n",
    "        tuples.reverse()\n",
    "        res=[]\n",
    "        for i in xrange(len(tuples)):\n",
    "            try:\n",
    "                res.append(t2[tuples.pop()])\n",
    "            except:\n",
    "                res.append(np.nan)\n",
    "        return res\n",
    "    columns=['group','content','pharmForm','category','manufacturer']\n",
    "    for L in range(1, 4):\n",
    "        for col in it.combinations(columns, L):\n",
    "            print col\n",
    "            t1=df1.groupby(list(col))\n",
    "            t2=dict(t1[c1].mean()) \n",
    "            str1='_'.join(col)\n",
    "            if len(col)==1:\n",
    "                df2[c1+'_'+str1+'_mean']=df2[col[0]].map(t2)\n",
    "            else:\n",
    "                df2[c1+'_'+str1+'_mean']=f(df2[list(col)])\n",
    "            if flag==1:\n",
    "                t2=dict(t1[c1].count())\n",
    "                if len(col)==1:\n",
    "                    df2[c1+'_'+str1+'_count']=df2[col[0]].map(t2)\n",
    "                else:\n",
    "                    df2[c1+'_'+str1+'_count']=np.array(f(df2[list(col)]))/2756003.0\n",
    "    return df2\n",
    "#items = solveCategorical('revenue',train_items,items,1)\n",
    "#items = solveCategorical('click',train_items,items,0)\n",
    "#items = solveCategorical('basket',train_items,items,0)\n",
    "#items = solveCategorical('order',train_items,items,0)\n",
    "#items.to_csv('data/interim/items_v1')"
   ]
  },
  {
   "cell_type": "code",
   "execution_count": 20,
   "metadata": {
    "collapsed": true
   },
   "outputs": [],
   "source": [
    "items = pd.read_csv(data/interim/items_v1.csv')"
   ]
  },
  {
   "cell_type": "code",
   "execution_count": 21,
   "metadata": {
    "collapsed": false
   },
   "outputs": [
    {
     "name": "stdout",
     "output_type": "stream",
     "text": [
      "<class 'pandas.core.frame.DataFrame'>\n",
      "Int64Index: 22035 entries, 0 to 22034\n",
      "Data columns (total 136 columns):\n",
      "pid                                              22035 non-null int64\n",
      "manufacturer                                     22035 non-null int64\n",
      "group                                            22035 non-null object\n",
      "content                                          22035 non-null object\n",
      "unit                                             22035 non-null object\n",
      "pharmForm                                        22035 non-null object\n",
      "genericProduct                                   22035 non-null int64\n",
      "salesIndex                                       22035 non-null int64\n",
      "category                                         22035 non-null int64\n",
      "campaignIndex                                    22035 non-null object\n",
      "rrp                                              22035 non-null float64\n",
      "revenue_group_mean                               22035 non-null float64\n",
      "revenue_group_count                              22035 non-null int64\n",
      "revenue_content_mean                             22035 non-null float64\n",
      "revenue_content_count                            22035 non-null int64\n",
      "revenue_pharmForm_mean                           22035 non-null float64\n",
      "revenue_pharmForm_count                          22035 non-null int64\n",
      "revenue_category_mean                            22035 non-null float64\n",
      "revenue_category_count                           22035 non-null int64\n",
      "revenue_manufacturer_mean                        22033 non-null float64\n",
      "revenue_manufacturer_count                       22033 non-null float64\n",
      "revenue_group_content_mean                       22034 non-null float64\n",
      "revenue_group_content_count                      22034 non-null float64\n",
      "revenue_group_pharmForm_mean                     22031 non-null float64\n",
      "revenue_group_pharmForm_count                    22031 non-null float64\n",
      "revenue_group_category_mean                      22033 non-null float64\n",
      "revenue_group_category_count                     22033 non-null float64\n",
      "revenue_group_manufacturer_mean                  22023 non-null float64\n",
      "revenue_group_manufacturer_count                 22023 non-null float64\n",
      "revenue_content_pharmForm_mean                   22032 non-null float64\n",
      "revenue_content_pharmForm_count                  22032 non-null float64\n",
      "revenue_content_category_mean                    22033 non-null float64\n",
      "revenue_content_category_count                   22033 non-null float64\n",
      "revenue_content_manufacturer_mean                22025 non-null float64\n",
      "revenue_content_manufacturer_count               22025 non-null float64\n",
      "revenue_pharmForm_category_mean                  22034 non-null float64\n",
      "revenue_pharmForm_category_count                 22034 non-null float64\n",
      "revenue_pharmForm_manufacturer_mean              22021 non-null float64\n",
      "revenue_pharmForm_manufacturer_count             22021 non-null float64\n",
      "revenue_category_manufacturer_mean               22026 non-null float64\n",
      "revenue_category_manufacturer_count              22026 non-null float64\n",
      "revenue_group_content_pharmForm_mean             22024 non-null float64\n",
      "revenue_group_content_pharmForm_count            22024 non-null float64\n",
      "revenue_group_content_category_mean              22024 non-null float64\n",
      "revenue_group_content_category_count             22024 non-null float64\n",
      "revenue_group_content_manufacturer_mean          22009 non-null float64\n",
      "revenue_group_content_manufacturer_count         22009 non-null float64\n",
      "revenue_group_pharmForm_category_mean            22027 non-null float64\n",
      "revenue_group_pharmForm_category_count           22027 non-null float64\n",
      "revenue_group_pharmForm_manufacturer_mean        22010 non-null float64\n",
      "revenue_group_pharmForm_manufacturer_count       22010 non-null float64\n",
      "revenue_group_category_manufacturer_mean         22011 non-null float64\n",
      "revenue_group_category_manufacturer_count        22011 non-null float64\n",
      "revenue_content_pharmForm_category_mean          22021 non-null float64\n",
      "revenue_content_pharmForm_category_count         22021 non-null float64\n",
      "revenue_content_pharmForm_manufacturer_mean      22004 non-null float64\n",
      "revenue_content_pharmForm_manufacturer_count     22004 non-null float64\n",
      "revenue_content_category_manufacturer_mean       22007 non-null float64\n",
      "revenue_content_category_manufacturer_count      22007 non-null float64\n",
      "revenue_pharmForm_category_manufacturer_mean     22006 non-null float64\n",
      "revenue_pharmForm_category_manufacturer_count    22006 non-null float64\n",
      "click_group_mean                                 22035 non-null float64\n",
      "click_content_mean                               22035 non-null float64\n",
      "click_pharmForm_mean                             22035 non-null float64\n",
      "click_category_mean                              22035 non-null float64\n",
      "click_manufacturer_mean                          22033 non-null float64\n",
      "click_group_content_mean                         22034 non-null float64\n",
      "click_group_pharmForm_mean                       22031 non-null float64\n",
      "click_group_category_mean                        22033 non-null float64\n",
      "click_group_manufacturer_mean                    22023 non-null float64\n",
      "click_content_pharmForm_mean                     22032 non-null float64\n",
      "click_content_category_mean                      22033 non-null float64\n",
      "click_content_manufacturer_mean                  22025 non-null float64\n",
      "click_pharmForm_category_mean                    22034 non-null float64\n",
      "click_pharmForm_manufacturer_mean                22021 non-null float64\n",
      "click_category_manufacturer_mean                 22026 non-null float64\n",
      "click_group_content_pharmForm_mean               22024 non-null float64\n",
      "click_group_content_category_mean                22024 non-null float64\n",
      "click_group_content_manufacturer_mean            22009 non-null float64\n",
      "click_group_pharmForm_category_mean              22027 non-null float64\n",
      "click_group_pharmForm_manufacturer_mean          22010 non-null float64\n",
      "click_group_category_manufacturer_mean           22011 non-null float64\n",
      "click_content_pharmForm_category_mean            22021 non-null float64\n",
      "click_content_pharmForm_manufacturer_mean        22004 non-null float64\n",
      "click_content_category_manufacturer_mean         22007 non-null float64\n",
      "click_pharmForm_category_manufacturer_mean       22006 non-null float64\n",
      "basket_group_mean                                22035 non-null float64\n",
      "basket_content_mean                              22035 non-null float64\n",
      "basket_pharmForm_mean                            22035 non-null float64\n",
      "basket_category_mean                             22035 non-null float64\n",
      "basket_manufacturer_mean                         22033 non-null float64\n",
      "basket_group_content_mean                        22034 non-null float64\n",
      "basket_group_pharmForm_mean                      22031 non-null float64\n",
      "basket_group_category_mean                       22033 non-null float64\n",
      "basket_group_manufacturer_mean                   22023 non-null float64\n",
      "basket_content_pharmForm_mean                    22032 non-null float64\n",
      "basket_content_category_mean                     22033 non-null float64\n",
      "basket_content_manufacturer_mean                 22025 non-null float64\n",
      "basket_pharmForm_category_mean                   22034 non-null float64\n",
      "basket_pharmForm_manufacturer_mean               22021 non-null float64\n",
      "basket_category_manufacturer_mean                22026 non-null float64\n",
      "basket_group_content_pharmForm_mean              22024 non-null float64\n",
      "basket_group_content_category_mean               22024 non-null float64\n",
      "basket_group_content_manufacturer_mean           22009 non-null float64\n",
      "basket_group_pharmForm_category_mean             22027 non-null float64\n",
      "basket_group_pharmForm_manufacturer_mean         22010 non-null float64\n",
      "basket_group_category_manufacturer_mean          22011 non-null float64\n",
      "basket_content_pharmForm_category_mean           22021 non-null float64\n",
      "basket_content_pharmForm_manufacturer_mean       22004 non-null float64\n",
      "basket_content_category_manufacturer_mean        22007 non-null float64\n",
      "basket_pharmForm_category_manufacturer_mean      22006 non-null float64\n",
      "order_group_mean                                 22035 non-null float64\n",
      "order_content_mean                               22035 non-null float64\n",
      "order_pharmForm_mean                             22035 non-null float64\n",
      "order_category_mean                              22035 non-null float64\n",
      "order_manufacturer_mean                          22033 non-null float64\n",
      "order_group_content_mean                         22034 non-null float64\n",
      "order_group_pharmForm_mean                       22031 non-null float64\n",
      "order_group_category_mean                        22033 non-null float64\n",
      "order_group_manufacturer_mean                    22023 non-null float64\n",
      "order_content_pharmForm_mean                     22032 non-null float64\n",
      "order_content_category_mean                      22033 non-null float64\n",
      "order_content_manufacturer_mean                  22025 non-null float64\n",
      "order_pharmForm_category_mean                    22034 non-null float64\n",
      "order_pharmForm_manufacturer_mean                22021 non-null float64\n",
      "order_category_manufacturer_mean                 22026 non-null float64\n",
      "order_group_content_pharmForm_mean               22024 non-null float64\n",
      "order_group_content_category_mean                22024 non-null float64\n",
      "order_group_content_manufacturer_mean            22009 non-null float64\n",
      "order_group_pharmForm_category_mean              22027 non-null float64\n",
      "order_group_pharmForm_manufacturer_mean          22010 non-null float64\n",
      "order_group_category_manufacturer_mean           22011 non-null float64\n",
      "order_content_pharmForm_category_mean            22021 non-null float64\n",
      "order_content_pharmForm_manufacturer_mean        22004 non-null float64\n",
      "order_content_category_manufacturer_mean         22007 non-null float64\n",
      "order_pharmForm_category_manufacturer_mean       22006 non-null float64\n",
      "dtypes: float64(122), int64(9), object(5)\n",
      "memory usage: 23.0+ MB\n"
     ]
    }
   ],
   "source": [
    "items.info(max_cols=136)"
   ]
  },
  {
   "cell_type": "raw",
   "metadata": {},
   "source": [
    "Not every intersection is present for all products but it's also true for test dataset, so there is no need to fix this.\n",
    "After some test revenue group turned out to be better for data representation so we add it to train_items in the following code."
   ]
  },
  {
   "cell_type": "code",
   "execution_count": 22,
   "metadata": {
    "collapsed": false
   },
   "outputs": [],
   "source": [
    "items_pred=list(items.columns)\n",
    "t1=['pid']\n",
    "for p in items_pred:\n",
    "    if 'revenue' in p:\n",
    "        t1.append(p)\n",
    "items_pred=t1"
   ]
  },
  {
   "cell_type": "code",
   "execution_count": 23,
   "metadata": {
    "collapsed": true
   },
   "outputs": [],
   "source": [
    "train_items=pd.merge(train_items,items[items_pred],on='pid')"
   ]
  },
  {
   "cell_type": "raw",
   "metadata": {},
   "source": [
    "This way we get the columns for the next stage"
   ]
  },
  {
   "cell_type": "code",
   "execution_count": 24,
   "metadata": {
    "collapsed": true
   },
   "outputs": [],
   "source": [
    "predictors=[ #'lineID',\n",
    "             #'day',\n",
    "             #'pid',\n",
    "             'adFlag',\n",
    "             #'availability',\n",
    "             #'competitorPrice',\n",
    "             #'click',\n",
    "             #'basket',\n",
    "             #'order',\n",
    "             #'price',\n",
    "             #'revenue',\n",
    "             #'manufacturer',\n",
    "             #'group',\n",
    "             #'content',\n",
    "             #'unit',\n",
    "             #'pharmForm',\n",
    "             'genericProduct',\n",
    "             #'salesIndex',\n",
    "             #'category',\n",
    "             #'campaignIndex',\n",
    "             'rrp',\n",
    "             'availability_1',\n",
    "             'availability_2',\n",
    "             'availability_3',\n",
    "             'availability_4',\n",
    "             'unit_CM',\n",
    "             'unit_G',\n",
    "             'unit_KG',\n",
    "             'unit_L',\n",
    "             'unit_M',\n",
    "             'unit_ML',\n",
    "             'unit_P',\n",
    "             'unit_ST',\n",
    "             'salesIndex_40',\n",
    "             'salesIndex_44',\n",
    "             'salesIndex_52',\n",
    "             'salesIndex_53',\n",
    "             'campaignIndex_A',\n",
    "             'campaignIndex_B',\n",
    "             'campaignIndex_C',\n",
    "             'day_of_week',\n",
    "             'discount',\n",
    "             'compDiscount',\n",
    "             'revenue_group_mean',\n",
    "             'revenue_group_count',\n",
    "             'revenue_content_mean',\n",
    "             'revenue_content_count',\n",
    "             'revenue_pharmForm_mean',\n",
    "             'revenue_pharmForm_count',\n",
    "             'revenue_category_mean',\n",
    "             'revenue_category_count',\n",
    "             'revenue_manufacturer_mean',\n",
    "             'revenue_manufacturer_count',\n",
    "             'revenue_group_content_mean',\n",
    "             'revenue_group_content_count',\n",
    "             'revenue_group_pharmForm_mean',\n",
    "             'revenue_group_pharmForm_count',\n",
    "             'revenue_group_category_mean',\n",
    "             'revenue_group_category_count',\n",
    "             'revenue_group_manufacturer_mean',\n",
    "             'revenue_group_manufacturer_count',\n",
    "             'revenue_content_pharmForm_mean',\n",
    "             'revenue_content_pharmForm_count',\n",
    "             'revenue_content_category_mean',\n",
    "             'revenue_content_category_count',\n",
    "             'revenue_content_manufacturer_mean',\n",
    "             'revenue_content_manufacturer_count',\n",
    "             'revenue_pharmForm_category_mean',\n",
    "             'revenue_pharmForm_category_count',\n",
    "             'revenue_pharmForm_manufacturer_mean',\n",
    "             'revenue_pharmForm_manufacturer_count',\n",
    "             'revenue_category_manufacturer_mean',\n",
    "             'revenue_category_manufacturer_count',\n",
    "             'revenue_group_content_pharmForm_mean',\n",
    "             'revenue_group_content_pharmForm_count',\n",
    "             'revenue_group_content_category_mean',\n",
    "             'revenue_group_content_category_count',\n",
    "             'revenue_group_content_manufacturer_mean',\n",
    "             'revenue_group_content_manufacturer_count',\n",
    "             'revenue_group_pharmForm_category_mean',\n",
    "             'revenue_group_pharmForm_category_count',\n",
    "             'revenue_group_pharmForm_manufacturer_mean',\n",
    "             'revenue_group_pharmForm_manufacturer_count',\n",
    "             'revenue_group_category_manufacturer_mean',\n",
    "             'revenue_group_category_manufacturer_count',\n",
    "             'revenue_content_pharmForm_category_mean',\n",
    "             'revenue_content_pharmForm_category_count',\n",
    "             'revenue_content_pharmForm_manufacturer_mean',\n",
    "             'revenue_content_pharmForm_manufacturer_count',\n",
    "             'revenue_content_category_manufacturer_mean',\n",
    "             'revenue_content_category_manufacturer_count',\n",
    "             'revenue_pharmForm_category_manufacturer_mean',\n",
    "             'revenue_pharmForm_category_manufacturer_count']"
   ]
  },
  {
   "cell_type": "raw",
   "metadata": {},
   "source": [
    "Due to the limited RAM we reduce our dataframe"
   ]
  },
  {
   "cell_type": "code",
   "execution_count": 25,
   "metadata": {
    "collapsed": false
   },
   "outputs": [],
   "source": [
    "from sklearn.model_selection import train_test_split\n",
    "train_set, test_set = train_test_split(train_items, train_size=0.1, test_size=0, random_state=42)"
   ]
  },
  {
   "cell_type": "code",
   "execution_count": 26,
   "metadata": {
    "collapsed": false
   },
   "outputs": [
    {
     "data": {
      "text/plain": [
       "<function gc.collect>"
      ]
     },
     "execution_count": 26,
     "metadata": {},
     "output_type": "execute_result"
    }
   ],
   "source": [
    "y_train = train_set['revenue']\n",
    "x_train = train_set[predictors]\n",
    "\n",
    "del train_items, items, test_set\n",
    "gc.collect"
   ]
  },
  {
   "cell_type": "code",
   "execution_count": 27,
   "metadata": {
    "collapsed": false
   },
   "outputs": [
    {
     "data": {
      "text/html": [
       "<div>\n",
       "<style>\n",
       "    .dataframe thead tr:only-child th {\n",
       "        text-align: right;\n",
       "    }\n",
       "\n",
       "    .dataframe thead th {\n",
       "        text-align: left;\n",
       "    }\n",
       "\n",
       "    .dataframe tbody tr th {\n",
       "        vertical-align: top;\n",
       "    }\n",
       "</style>\n",
       "<table border=\"1\" class=\"dataframe\">\n",
       "  <thead>\n",
       "    <tr style=\"text-align: right;\">\n",
       "      <th></th>\n",
       "      <th>adFlag</th>\n",
       "      <th>genericProduct</th>\n",
       "      <th>rrp</th>\n",
       "      <th>availability_1</th>\n",
       "      <th>availability_2</th>\n",
       "      <th>availability_3</th>\n",
       "      <th>availability_4</th>\n",
       "      <th>unit_CM</th>\n",
       "      <th>unit_G</th>\n",
       "      <th>unit_KG</th>\n",
       "      <th>...</th>\n",
       "      <th>revenue_group_category_manufacturer_mean</th>\n",
       "      <th>revenue_group_category_manufacturer_count</th>\n",
       "      <th>revenue_content_pharmForm_category_mean</th>\n",
       "      <th>revenue_content_pharmForm_category_count</th>\n",
       "      <th>revenue_content_pharmForm_manufacturer_mean</th>\n",
       "      <th>revenue_content_pharmForm_manufacturer_count</th>\n",
       "      <th>revenue_content_category_manufacturer_mean</th>\n",
       "      <th>revenue_content_category_manufacturer_count</th>\n",
       "      <th>revenue_pharmForm_category_manufacturer_mean</th>\n",
       "      <th>revenue_pharmForm_category_manufacturer_count</th>\n",
       "    </tr>\n",
       "  </thead>\n",
       "  <tbody>\n",
       "    <tr>\n",
       "      <th>309086</th>\n",
       "      <td>0</td>\n",
       "      <td>0</td>\n",
       "      <td>0.66</td>\n",
       "      <td>1</td>\n",
       "      <td>0</td>\n",
       "      <td>0</td>\n",
       "      <td>0</td>\n",
       "      <td>0</td>\n",
       "      <td>1</td>\n",
       "      <td>0</td>\n",
       "      <td>...</td>\n",
       "      <td>0.847468</td>\n",
       "      <td>0.000198</td>\n",
       "      <td>0.847468</td>\n",
       "      <td>0.000198</td>\n",
       "      <td>0.847468</td>\n",
       "      <td>0.000198</td>\n",
       "      <td>0.847468</td>\n",
       "      <td>0.000198</td>\n",
       "      <td>0.847468</td>\n",
       "      <td>0.000198</td>\n",
       "    </tr>\n",
       "  </tbody>\n",
       "</table>\n",
       "<p>1 rows × 75 columns</p>\n",
       "</div>"
      ],
      "text/plain": [
       "        adFlag  genericProduct   rrp  availability_1  availability_2  \\\n",
       "309086       0               0  0.66               1               0   \n",
       "\n",
       "        availability_3  availability_4  unit_CM  unit_G  unit_KG  \\\n",
       "309086               0               0        0       1        0   \n",
       "\n",
       "                            ...                        \\\n",
       "309086                      ...                         \n",
       "\n",
       "        revenue_group_category_manufacturer_mean  \\\n",
       "309086                                  0.847468   \n",
       "\n",
       "        revenue_group_category_manufacturer_count  \\\n",
       "309086                                   0.000198   \n",
       "\n",
       "        revenue_content_pharmForm_category_mean  \\\n",
       "309086                                 0.847468   \n",
       "\n",
       "        revenue_content_pharmForm_category_count  \\\n",
       "309086                                  0.000198   \n",
       "\n",
       "        revenue_content_pharmForm_manufacturer_mean  \\\n",
       "309086                                     0.847468   \n",
       "\n",
       "        revenue_content_pharmForm_manufacturer_count  \\\n",
       "309086                                      0.000198   \n",
       "\n",
       "        revenue_content_category_manufacturer_mean  \\\n",
       "309086                                    0.847468   \n",
       "\n",
       "        revenue_content_category_manufacturer_count  \\\n",
       "309086                                     0.000198   \n",
       "\n",
       "        revenue_pharmForm_category_manufacturer_mean  \\\n",
       "309086                                      0.847468   \n",
       "\n",
       "        revenue_pharmForm_category_manufacturer_count  \n",
       "309086                                       0.000198  \n",
       "\n",
       "[1 rows x 75 columns]"
      ]
     },
     "execution_count": 27,
     "metadata": {},
     "output_type": "execute_result"
    }
   ],
   "source": [
    "x_train.head(1)"
   ]
  },
  {
   "cell_type": "raw",
   "metadata": {},
   "source": [
    "The range of every column is very different, so we need to use scaler."
   ]
  },
  {
   "cell_type": "code",
   "execution_count": 28,
   "metadata": {
    "collapsed": true
   },
   "outputs": [],
   "source": [
    "scaler = MinMaxScaler()\n",
    "x_train=scaler.fit_transform(x_train)"
   ]
  },
  {
   "cell_type": "markdown",
   "metadata": {},
   "source": [
    "## Models"
   ]
  },
  {
   "cell_type": "raw",
   "metadata": {},
   "source": [
    "Now we are going to use regularized linear regression models from the scikit learn module."
   ]
  },
  {
   "cell_type": "code",
   "execution_count": 29,
   "metadata": {
    "collapsed": false
   },
   "outputs": [],
   "source": [
    "from sklearn.model_selection import cross_val_score\n",
    "def rmse_cv(model):\n",
    "    rmse= np.sqrt(-cross_val_score(model, x_train, y_train, scoring=\"neg_mean_squared_error\", cv = 5))\n",
    "    return(rmse)\n",
    "model_ridge = linear_model.Ridge()\n",
    "alphas = [1, 4, 5, 6, 7, 8, 9, 10, 11, 15]\n",
    "cv_ridge = [rmse_cv(linear_model.Ridge(alpha = alpha)).mean() for alpha in alphas]"
   ]
  },
  {
   "cell_type": "code",
   "execution_count": 30,
   "metadata": {
    "collapsed": false
   },
   "outputs": [
    {
     "data": {
      "text/plain": [
       "<matplotlib.text.Text at 0x7f5d14d20850>"
      ]
     },
     "execution_count": 30,
     "metadata": {},
     "output_type": "execute_result"
    },
    {
     "data": {
      "image/png": "[encoded data removed]",
      "text/plain": [
       "<matplotlib.figure.Figure at 0x7f5ce1932410>"
      ]
     },
     "metadata": {},
     "output_type": "display_data"
    }
   ],
   "source": [
    "cv_ridge = pd.Series(cv_ridge, index = alphas)\n",
    "cv_ridge.plot()\n",
    "plt.xlabel(\"alpha\")\n",
    "plt.ylabel(\"rmse\")"
   ]
  },
  {
   "cell_type": "raw",
   "metadata": {},
   "source": [
    "A value of alpha = 6 is about right based on the plot above.\n",
    "Let' try out the Lasso model. We will do a slightly different approach here and use the built in Lasso CV to figure out the best alpha for us. For some reason the alphas in Lasso CV are really the inverse or the alphas in Ridge."
   ]
  },
  {
   "cell_type": "code",
   "execution_count": 31,
   "metadata": {
    "collapsed": false
   },
   "outputs": [],
   "source": [
    "model_ridge = linear_model.Ridge(alpha=6, fit_intercept=True, max_iter=10000)\n",
    "model_ridge.fit(x_train, y_train)\n",
    "model_lasso = linear_model.LassoCV(alphas = [1, 0.16, 0.1, 0.001, 0.0005]).fit(x_train, y_train)"
   ]
  },
  {
   "cell_type": "code",
   "execution_count": 32,
   "metadata": {
    "collapsed": false
   },
   "outputs": [
    {
     "name": "stderr",
     "output_type": "stream",
     "text": [
      "/home/roman/anaconda2/lib/python2.7/site-packages/sklearn/linear_model/coordinate_descent.py:484: ConvergenceWarning: Objective did not converge. You might want to increase the number of iterations. Fitting data with very small alpha may cause precision problems.\n",
      "  ConvergenceWarning)\n"
     ]
    },
    {
     "data": {
      "text/plain": [
       "9.7217194633925317"
      ]
     },
     "execution_count": 32,
     "metadata": {},
     "output_type": "execute_result"
    }
   ],
   "source": [
    "rmse_cv(model_lasso).mean()"
   ]
  },
  {
   "cell_type": "code",
   "execution_count": 33,
   "metadata": {
    "collapsed": false
   },
   "outputs": [
    {
     "data": {
      "text/plain": [
       "9.7217060828070796"
      ]
     },
     "execution_count": 33,
     "metadata": {},
     "output_type": "execute_result"
    }
   ],
   "source": [
    "cv_ridge.min()"
   ]
  },
  {
   "cell_type": "raw",
   "metadata": {},
   "source": [
    "Ridge shows better result, but they are very close."
   ]
  },
  {
   "cell_type": "code",
   "execution_count": 34,
   "metadata": {
    "collapsed": false
   },
   "outputs": [
    {
     "name": "stdout",
     "output_type": "stream",
     "text": [
      "Lasso picked 50 variables and eliminated the other 25 variables\n"
     ]
    }
   ],
   "source": [
    "c = pd.Series(model_lasso.coef_, index = train_set[predictors].columns)\n",
    "print(\"Lasso picked \" + str(sum(c != 0)) + \" variables and eliminated the other \" +  str(sum(c == 0)) + \" variables\")"
   ]
  },
  {
   "cell_type": "code",
   "execution_count": 35,
   "metadata": {
    "collapsed": false
   },
   "outputs": [
    {
     "data": {
      "text/plain": [
       "<matplotlib.text.Text at 0x7f5ce13e1890>"
      ]
     },
     "execution_count": 35,
     "metadata": {},
     "output_type": "execute_result"
    },
    {
     "data": {
      "image/png": "[encoded data removed]",
      "text/plain": [
       "<matplotlib.figure.Figure at 0x7f5ce19322d0>"
      ]
     },
     "metadata": {},
     "output_type": "display_data"
    }
   ],
   "source": [
    "imp_coef = pd.concat([c.sort_values().head(10), c.sort_values().tail(10)])\n",
    "import matplotlib\n",
    "matplotlib.rcParams['figure.figsize'] = (8.0, 10.0)\n",
    "imp_coef.plot(kind = \"barh\")\n",
    "plt.title(\"Coefficients in the Lasso Model\")"
   ]
  },
  {
   "cell_type": "code",
   "execution_count": 36,
   "metadata": {
    "collapsed": false
   },
   "outputs": [
    {
     "data": {
      "text/plain": [
       "<matplotlib.text.Text at 0x7f5ce124d110>"
      ]
     },
     "execution_count": 36,
     "metadata": {},
     "output_type": "execute_result"
    },
    {
     "data": {
      "image/png": "[encoded data removed]",
      "text/plain": [
       "<matplotlib.figure.Figure at 0x7f5ce131e410>"
      ]
     },
     "metadata": {},
     "output_type": "display_data"
    }
   ],
   "source": [
    "c = pd.Series(model_ridge.coef_, index = train_set[predictors].columns)\n",
    "imp_coef = pd.concat([c.sort_values().head(10), c.sort_values().tail(10)])\n",
    "matplotlib.rcParams['figure.figsize'] = (8.0, 10.0)\n",
    "imp_coef.plot(kind = \"barh\")\n",
    "plt.title(\"Coefficients in the Ridge Model\")"
   ]
  },
  {
   "cell_type": "code",
   "execution_count": 37,
   "metadata": {
    "collapsed": false
   },
   "outputs": [
    {
     "data": {
      "text/plain": [
       "<function gc.collect>"
      ]
     },
     "execution_count": 37,
     "metadata": {},
     "output_type": "execute_result"
    }
   ],
   "source": [
    "del train_set, x_train, y_train\n",
    "gc.collect"
   ]
  },
  {
   "cell_type": "raw",
   "metadata": {},
   "source": [
    "Now let's return to full dataset and perform preprocessing using previous functions"
   ]
  },
  {
   "cell_type": "code",
   "execution_count": 38,
   "metadata": {
    "collapsed": false
   },
   "outputs": [
    {
     "data": {
      "text/plain": [
       "<function gc.collect>"
      ]
     },
     "execution_count": 38,
     "metadata": {},
     "output_type": "execute_result"
    }
   ],
   "source": [
    "items = pd.read_csv('data/raw/items.csv',sep='|')\n",
    "train = pd.read_csv('data/raw/train.csv',sep='|')\n",
    "train_items=pd.merge(train,items,on='pid')\n",
    "del train\n",
    "gc.collect"
   ]
  },
  {
   "cell_type": "code",
   "execution_count": 39,
   "metadata": {
    "collapsed": false
   },
   "outputs": [
    {
     "data": {
      "text/plain": [
       "<function gc.collect>"
      ]
     },
     "execution_count": 39,
     "metadata": {},
     "output_type": "execute_result"
    }
   ],
   "source": [
    "train_items=toCategorical(train_items)\n",
    "train_items=solveNA(train_items,train_items,coef_competitorPrice_to_rrp,0)\n",
    "train_items=Dummies(train_items)\n",
    "train_items=moreFeautures(train_items)\n",
    "\n",
    "items = pd.read_csv('data/interim/items_v1.csv')\n",
    "train_items=pd.merge(train_items,items[items_pred],on='pid')\n",
    "y_train = train_items['revenue']\n",
    "x_train = train_items[predictors]\n",
    "\n",
    "del train_items, items\n",
    "gc.collect"
   ]
  },
  {
   "cell_type": "code",
   "execution_count": 41,
   "metadata": {
    "collapsed": false
   },
   "outputs": [],
   "source": [
    "scaler = MinMaxScaler()\n",
    "x_train=scaler.fit_transform(x_train)"
   ]
  },
  {
   "cell_type": "raw",
   "metadata": {},
   "source": [
    "After preprocessing we can start fitting our models with best alpha from previous step"
   ]
  },
  {
   "cell_type": "code",
   "execution_count": 42,
   "metadata": {
    "collapsed": false
   },
   "outputs": [],
   "source": [
    "model_lasso = linear_model.LassoCV(alphas = [1, 0.16, 0.1, 0.001, 0.0005]).fit(x_train, y_train)"
   ]
  },
  {
   "cell_type": "code",
   "execution_count": 43,
   "metadata": {
    "collapsed": false
   },
   "outputs": [
    {
     "data": {
      "text/plain": [
       "Ridge(alpha=6, copy_X=True, fit_intercept=True, max_iter=10000,\n",
       "   normalize=False, random_state=None, solver='auto', tol=0.001)"
      ]
     },
     "execution_count": 43,
     "metadata": {},
     "output_type": "execute_result"
    }
   ],
   "source": [
    "model_ridge = linear_model.Ridge(alpha=6, fit_intercept=True, max_iter=10000)\n",
    "model_ridge.fit(x_train, y_train)"
   ]
  },
  {
   "cell_type": "code",
   "execution_count": 44,
   "metadata": {
    "collapsed": false
   },
   "outputs": [
    {
     "data": {
      "text/plain": [
       "<function gc.collect>"
      ]
     },
     "execution_count": 44,
     "metadata": {},
     "output_type": "execute_result"
    }
   ],
   "source": [
    "del y_train,x_train\n",
    "gc.collect"
   ]
  },
  {
   "cell_type": "raw",
   "metadata": {},
   "source": [
    "So now we have fitted models, let's load and preprocess our class data."
   ]
  },
  {
   "cell_type": "code",
   "execution_count": 45,
   "metadata": {
    "collapsed": false
   },
   "outputs": [
    {
     "data": {
      "text/plain": [
       "<function gc.collect>"
      ]
     },
     "execution_count": 45,
     "metadata": {},
     "output_type": "execute_result"
    }
   ],
   "source": [
    "items = pd.read_csv(\n",
    "'data/raw/items.csv',sep='|')\n",
    "clas = pd.read_csv(\n",
    "'data/raw/class.csv',sep='|')\n",
    "clas_items=pd.merge(clas,items,on='pid')\n",
    "clas_items=toCategorical(clas_items)\n",
    "clas_items=solveNA(clas_items,clas_items,coef_competitorPrice_to_rrp,0)\n",
    "clas_items=Dummies(clas_items)\n",
    "clas_items=moreFeautures(clas_items)\n",
    "items = pd.read_csv(\n",
    "'data/interim/items_v1.csv')\n",
    "clas_items=pd.merge(clas_items,items[items_pred],on='pid')\n",
    "\n",
    "submission = pd.DataFrame({\n",
    "        \"lineID\": clas_items[\"lineID\"],\n",
    "        \"revenue\": np.zeros(shape=(1210767,))\n",
    "})\n",
    "\n",
    "x_test = clas_items[predictors]\n",
    "del clas_items,clas,items\n",
    "gc.collect"
   ]
  },
  {
   "cell_type": "raw",
   "metadata": {},
   "source": [
    "In case of missing data appearance we can conclude that it's the new manufacturer that was not in the training set but it can appear in test"
   ]
  },
  {
   "cell_type": "code",
   "execution_count": 46,
   "metadata": {
    "collapsed": true
   },
   "outputs": [],
   "source": [
    "x_test = x_test.fillna(x_test.mean())\n",
    "x_test = scaler.fit_transform(x_test)"
   ]
  },
  {
   "cell_type": "raw",
   "metadata": {},
   "source": [
    "And finaly we can make prediction of revenue"
   ]
  },
  {
   "cell_type": "code",
   "execution_count": 47,
   "metadata": {
    "collapsed": true
   },
   "outputs": [],
   "source": [
    "lasso_preds = model_lasso.predict(x_test)\n",
    "ridge_preds = model_ridge.predict(x_test)"
   ]
  },
  {
   "cell_type": "raw",
   "metadata": {},
   "source": [
    "In postprocessing we fill in all negative values with zero, because of business logic.\n",
    "After that we mix output from two models, sort and save our submision."
   ]
  },
  {
   "cell_type": "code",
   "execution_count": 49,
   "metadata": {
    "collapsed": true
   },
   "outputs": [],
   "source": [
    "predictions = pd.DataFrame({\"ridge\":ridge_preds, \"lasso\":lasso_preds})\n",
    "predictions[predictions['ridge']<0]=0\n",
    "predictions[predictions['lasso']<0]=0\n",
    "\n",
    "lasso_preds = predictions['lasso']\n",
    "ridge_preds = predictions['ridge']\n",
    "com_pred = (lasso_preds + ridge_preds) / 2.0\n",
    "\n",
    "submission['revenue']=com_pred\n",
    "submission_sorted=submission.sort_values(\"lineID\");\n",
    "submission_sorted.to_csv(\"data/Uni_Polytechnic_Lviv_1.csv\", index=False, sep='|')"
   ]
  },
  {
   "cell_type": "code",
   "execution_count": 50,
   "metadata": {
    "collapsed": false
   },
   "outputs": [
    {
     "data": {
      "text/html": [
       "<div>\n",
       "<style>\n",
       "    .dataframe thead tr:only-child th {\n",
       "        text-align: right;\n",
       "    }\n",
       "\n",
       "    .dataframe thead th {\n",
       "        text-align: left;\n",
       "    }\n",
       "\n",
       "    .dataframe tbody tr th {\n",
       "        vertical-align: top;\n",
       "    }\n",
       "</style>\n",
       "<table border=\"1\" class=\"dataframe\">\n",
       "  <thead>\n",
       "    <tr style=\"text-align: right;\">\n",
       "      <th></th>\n",
       "      <th>lineID</th>\n",
       "      <th>revenue</th>\n",
       "    </tr>\n",
       "  </thead>\n",
       "  <tbody>\n",
       "    <tr>\n",
       "      <th>0</th>\n",
       "      <td>1</td>\n",
       "      <td>2.918315</td>\n",
       "    </tr>\n",
       "    <tr>\n",
       "      <th>314</th>\n",
       "      <td>2</td>\n",
       "      <td>0.085515</td>\n",
       "    </tr>\n",
       "    <tr>\n",
       "      <th>688</th>\n",
       "      <td>3</td>\n",
       "      <td>1.153730</td>\n",
       "    </tr>\n",
       "    <tr>\n",
       "      <th>1137</th>\n",
       "      <td>4</td>\n",
       "      <td>0.289552</td>\n",
       "    </tr>\n",
       "    <tr>\n",
       "      <th>1292</th>\n",
       "      <td>5</td>\n",
       "      <td>1.545264</td>\n",
       "    </tr>\n",
       "    <tr>\n",
       "      <th>1779</th>\n",
       "      <td>6</td>\n",
       "      <td>2.567740</td>\n",
       "    </tr>\n",
       "    <tr>\n",
       "      <th>1883</th>\n",
       "      <td>7</td>\n",
       "      <td>0.551230</td>\n",
       "    </tr>\n",
       "    <tr>\n",
       "      <th>2950</th>\n",
       "      <td>8</td>\n",
       "      <td>1.073107</td>\n",
       "    </tr>\n",
       "    <tr>\n",
       "      <th>3333</th>\n",
       "      <td>9</td>\n",
       "      <td>3.508954</td>\n",
       "    </tr>\n",
       "    <tr>\n",
       "      <th>3701</th>\n",
       "      <td>10</td>\n",
       "      <td>4.274228</td>\n",
       "    </tr>\n",
       "    <tr>\n",
       "      <th>4317</th>\n",
       "      <td>11</td>\n",
       "      <td>0.913259</td>\n",
       "    </tr>\n",
       "    <tr>\n",
       "      <th>5045</th>\n",
       "      <td>12</td>\n",
       "      <td>1.136892</td>\n",
       "    </tr>\n",
       "    <tr>\n",
       "      <th>5435</th>\n",
       "      <td>13</td>\n",
       "      <td>1.164143</td>\n",
       "    </tr>\n",
       "    <tr>\n",
       "      <th>5838</th>\n",
       "      <td>14</td>\n",
       "      <td>2.212649</td>\n",
       "    </tr>\n",
       "    <tr>\n",
       "      <th>6114</th>\n",
       "      <td>15</td>\n",
       "      <td>1.134349</td>\n",
       "    </tr>\n",
       "    <tr>\n",
       "      <th>8729</th>\n",
       "      <td>16</td>\n",
       "      <td>11.082580</td>\n",
       "    </tr>\n",
       "    <tr>\n",
       "      <th>8807</th>\n",
       "      <td>17</td>\n",
       "      <td>3.028414</td>\n",
       "    </tr>\n",
       "    <tr>\n",
       "      <th>9076</th>\n",
       "      <td>18</td>\n",
       "      <td>5.441399</td>\n",
       "    </tr>\n",
       "    <tr>\n",
       "      <th>10345</th>\n",
       "      <td>19</td>\n",
       "      <td>0.462155</td>\n",
       "    </tr>\n",
       "    <tr>\n",
       "      <th>10595</th>\n",
       "      <td>20</td>\n",
       "      <td>2.880210</td>\n",
       "    </tr>\n",
       "    <tr>\n",
       "      <th>10956</th>\n",
       "      <td>21</td>\n",
       "      <td>3.223039</td>\n",
       "    </tr>\n",
       "    <tr>\n",
       "      <th>11011</th>\n",
       "      <td>22</td>\n",
       "      <td>6.188713</td>\n",
       "    </tr>\n",
       "    <tr>\n",
       "      <th>11041</th>\n",
       "      <td>23</td>\n",
       "      <td>2.005597</td>\n",
       "    </tr>\n",
       "    <tr>\n",
       "      <th>11063</th>\n",
       "      <td>24</td>\n",
       "      <td>8.900715</td>\n",
       "    </tr>\n",
       "    <tr>\n",
       "      <th>11130</th>\n",
       "      <td>25</td>\n",
       "      <td>1.641799</td>\n",
       "    </tr>\n",
       "    <tr>\n",
       "      <th>13209</th>\n",
       "      <td>26</td>\n",
       "      <td>1.250267</td>\n",
       "    </tr>\n",
       "    <tr>\n",
       "      <th>13299</th>\n",
       "      <td>27</td>\n",
       "      <td>3.518609</td>\n",
       "    </tr>\n",
       "    <tr>\n",
       "      <th>15137</th>\n",
       "      <td>28</td>\n",
       "      <td>5.461279</td>\n",
       "    </tr>\n",
       "    <tr>\n",
       "      <th>18499</th>\n",
       "      <td>29</td>\n",
       "      <td>5.780450</td>\n",
       "    </tr>\n",
       "    <tr>\n",
       "      <th>19023</th>\n",
       "      <td>30</td>\n",
       "      <td>2.679875</td>\n",
       "    </tr>\n",
       "    <tr>\n",
       "      <th>...</th>\n",
       "      <td>...</td>\n",
       "      <td>...</td>\n",
       "    </tr>\n",
       "    <tr>\n",
       "      <th>483406</th>\n",
       "      <td>1210738</td>\n",
       "      <td>1.601418</td>\n",
       "    </tr>\n",
       "    <tr>\n",
       "      <th>1046815</th>\n",
       "      <td>1210739</td>\n",
       "      <td>2.388170</td>\n",
       "    </tr>\n",
       "    <tr>\n",
       "      <th>43369</th>\n",
       "      <td>1210740</td>\n",
       "      <td>0.220250</td>\n",
       "    </tr>\n",
       "    <tr>\n",
       "      <th>111016</th>\n",
       "      <td>1210741</td>\n",
       "      <td>1.419405</td>\n",
       "    </tr>\n",
       "    <tr>\n",
       "      <th>610455</th>\n",
       "      <td>1210742</td>\n",
       "      <td>2.097951</td>\n",
       "    </tr>\n",
       "    <tr>\n",
       "      <th>1159101</th>\n",
       "      <td>1210743</td>\n",
       "      <td>1.811689</td>\n",
       "    </tr>\n",
       "    <tr>\n",
       "      <th>678894</th>\n",
       "      <td>1210744</td>\n",
       "      <td>2.091872</td>\n",
       "    </tr>\n",
       "    <tr>\n",
       "      <th>97966</th>\n",
       "      <td>1210745</td>\n",
       "      <td>2.416438</td>\n",
       "    </tr>\n",
       "    <tr>\n",
       "      <th>807746</th>\n",
       "      <td>1210746</td>\n",
       "      <td>1.729460</td>\n",
       "    </tr>\n",
       "    <tr>\n",
       "      <th>1193039</th>\n",
       "      <td>1210747</td>\n",
       "      <td>1.695809</td>\n",
       "    </tr>\n",
       "    <tr>\n",
       "      <th>131637</th>\n",
       "      <td>1210748</td>\n",
       "      <td>8.831485</td>\n",
       "    </tr>\n",
       "    <tr>\n",
       "      <th>368371</th>\n",
       "      <td>1210749</td>\n",
       "      <td>3.000849</td>\n",
       "    </tr>\n",
       "    <tr>\n",
       "      <th>204785</th>\n",
       "      <td>1210750</td>\n",
       "      <td>0.200165</td>\n",
       "    </tr>\n",
       "    <tr>\n",
       "      <th>283733</th>\n",
       "      <td>1210751</td>\n",
       "      <td>0.000000</td>\n",
       "    </tr>\n",
       "    <tr>\n",
       "      <th>524147</th>\n",
       "      <td>1210752</td>\n",
       "      <td>6.826647</td>\n",
       "    </tr>\n",
       "    <tr>\n",
       "      <th>3332</th>\n",
       "      <td>1210753</td>\n",
       "      <td>1.156671</td>\n",
       "    </tr>\n",
       "    <tr>\n",
       "      <th>675250</th>\n",
       "      <td>1210754</td>\n",
       "      <td>7.610855</td>\n",
       "    </tr>\n",
       "    <tr>\n",
       "      <th>225324</th>\n",
       "      <td>1210755</td>\n",
       "      <td>5.195631</td>\n",
       "    </tr>\n",
       "    <tr>\n",
       "      <th>125268</th>\n",
       "      <td>1210756</td>\n",
       "      <td>2.151450</td>\n",
       "    </tr>\n",
       "    <tr>\n",
       "      <th>634274</th>\n",
       "      <td>1210757</td>\n",
       "      <td>5.014182</td>\n",
       "    </tr>\n",
       "    <tr>\n",
       "      <th>203936</th>\n",
       "      <td>1210758</td>\n",
       "      <td>3.267051</td>\n",
       "    </tr>\n",
       "    <tr>\n",
       "      <th>43370</th>\n",
       "      <td>1210759</td>\n",
       "      <td>0.220250</td>\n",
       "    </tr>\n",
       "    <tr>\n",
       "      <th>513052</th>\n",
       "      <td>1210760</td>\n",
       "      <td>1.856578</td>\n",
       "    </tr>\n",
       "    <tr>\n",
       "      <th>122835</th>\n",
       "      <td>1210761</td>\n",
       "      <td>0.354526</td>\n",
       "    </tr>\n",
       "    <tr>\n",
       "      <th>1068349</th>\n",
       "      <td>1210762</td>\n",
       "      <td>3.249229</td>\n",
       "    </tr>\n",
       "    <tr>\n",
       "      <th>737912</th>\n",
       "      <td>1210763</td>\n",
       "      <td>3.362747</td>\n",
       "    </tr>\n",
       "    <tr>\n",
       "      <th>266596</th>\n",
       "      <td>1210764</td>\n",
       "      <td>4.080373</td>\n",
       "    </tr>\n",
       "    <tr>\n",
       "      <th>955362</th>\n",
       "      <td>1210765</td>\n",
       "      <td>2.334744</td>\n",
       "    </tr>\n",
       "    <tr>\n",
       "      <th>131163</th>\n",
       "      <td>1210766</td>\n",
       "      <td>3.869969</td>\n",
       "    </tr>\n",
       "    <tr>\n",
       "      <th>111017</th>\n",
       "      <td>1210767</td>\n",
       "      <td>1.419394</td>\n",
       "    </tr>\n",
       "  </tbody>\n",
       "</table>\n",
       "<p>1210767 rows × 2 columns</p>\n",
       "</div>"
      ],
      "text/plain": [
       "          lineID    revenue\n",
       "0              1   2.918315\n",
       "314            2   0.085515\n",
       "688            3   1.153730\n",
       "1137           4   0.289552\n",
       "1292           5   1.545264\n",
       "1779           6   2.567740\n",
       "1883           7   0.551230\n",
       "2950           8   1.073107\n",
       "3333           9   3.508954\n",
       "3701          10   4.274228\n",
       "4317          11   0.913259\n",
       "5045          12   1.136892\n",
       "5435          13   1.164143\n",
       "5838          14   2.212649\n",
       "6114          15   1.134349\n",
       "8729          16  11.082580\n",
       "8807          17   3.028414\n",
       "9076          18   5.441399\n",
       "10345         19   0.462155\n",
       "10595         20   2.880210\n",
       "10956         21   3.223039\n",
       "11011         22   6.188713\n",
       "11041         23   2.005597\n",
       "11063         24   8.900715\n",
       "11130         25   1.641799\n",
       "13209         26   1.250267\n",
       "13299         27   3.518609\n",
       "15137         28   5.461279\n",
       "18499         29   5.780450\n",
       "19023         30   2.679875\n",
       "...          ...        ...\n",
       "483406   1210738   1.601418\n",
       "1046815  1210739   2.388170\n",
       "43369    1210740   0.220250\n",
       "111016   1210741   1.419405\n",
       "610455   1210742   2.097951\n",
       "1159101  1210743   1.811689\n",
       "678894   1210744   2.091872\n",
       "97966    1210745   2.416438\n",
       "807746   1210746   1.729460\n",
       "1193039  1210747   1.695809\n",
       "131637   1210748   8.831485\n",
       "368371   1210749   3.000849\n",
       "204785   1210750   0.200165\n",
       "283733   1210751   0.000000\n",
       "524147   1210752   6.826647\n",
       "3332     1210753   1.156671\n",
       "675250   1210754   7.610855\n",
       "225324   1210755   5.195631\n",
       "125268   1210756   2.151450\n",
       "634274   1210757   5.014182\n",
       "203936   1210758   3.267051\n",
       "43370    1210759   0.220250\n",
       "513052   1210760   1.856578\n",
       "122835   1210761   0.354526\n",
       "1068349  1210762   3.249229\n",
       "737912   1210763   3.362747\n",
       "266596   1210764   4.080373\n",
       "955362   1210765   2.334744\n",
       "131163   1210766   3.869969\n",
       "111017   1210767   1.419394\n",
       "\n",
       "[1210767 rows x 2 columns]"
      ]
     },
     "execution_count": 50,
     "metadata": {},
     "output_type": "execute_result"
    }
   ],
   "source": [
    "submission_sorted"
   ]
  }
 ],
 "metadata": {
  "kernelspec": {
   "display_name": "Python [Root]",
   "language": "python",
   "name": "Python [Root]"
  },
  "language_info": {
   "codemirror_mode": {
    "name": "ipython",
    "version": 2
   },
   "file_extension": ".py",
   "mimetype": "text/x-python",
   "name": "python",
   "nbconvert_exporter": "python",
   "pygments_lexer": "ipython2",
   "version": "2.7.12"
  }
 },
 "nbformat": 4,
 "nbformat_minor": 0
}
